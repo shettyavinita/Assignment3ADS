{
 "cells": [
  {
   "cell_type": "code",
   "execution_count": null,
   "metadata": {
    "collapsed": true
   },
   "outputs": [],
   "source": [
    "import glob\n",
    "import pandas as pd\n",
    "filenames = glob.glob('.\\Desktop\\INFO 7390 ADS\\Assignment3\\CY2014 COB Interval data 1/*.csv')\n",
    "filenames1 = glob.glob('.\\Desktop\\INFO 7390 ADS\\Assignment3\\CY2014 COB Interval data 2/*.csv')\n",
    "f = filenames+filenames1\n",
    "frame = pd.DataFrame()\n",
    "list_ = []\n",
    "\n",
    "for index in range(len(f)):\n",
    "    file_ = f[index][63:(f[index].rfind('.csv', 0, len(f[index])))]\n",
    "    if file_[-2:] == '.2' or file_[-2:] == '.1':\n",
    "        file_ = file_[0:-2]\n",
    "    if file_[-5:] == ' 2014' or file_[-5:] == '.2014':\n",
    "        file_ = file_[0:-5]\n",
    "    if file_[:7] == 'Agassiz':\n",
    "        file_ = 'SCH.Agassiz'\n",
    "    else:\n",
    "        file_ = file_[4:]\n",
    "    if file_[-11:] == '.2014.1 (2)' or file_[-11:] == '.2014.2 (2)':\n",
    "        file_ = file_[:-11]\n",
    "    if file_[-9:] == '.2014 (2)':\n",
    "        file_ = file_[:-9]\n",
    "    if file_ == 'SCH.ArtsJan.Dec2014':\n",
    "        file_ = 'SCH.Arts'\n",
    "    if file_[:14] == 'SCH.Blackstone':\n",
    "        file_ = 'SCH.Blackstone'\n",
    "    point = file_.find('.', 0, len(file_))\n",
    "    loctype = file_[:point]\n",
    "    loc = file_[point+1:]\n",
    "    df = pd.read_csv(f[index],index_col=False, header=0)\n",
    "    df = df.rename(columns={'24:00:00': '24:00'})\n",
    "    for item in df:\n",
    "        df['loctype']=loctype\n",
    "        df['loc'] = loc\n",
    "    #df.fillna('0')\n",
    "    list_.append(df)\n",
    "    \n",
    "frame = pd.concat(list_)\n",
    "for item in frame:\n",
    "    frame.fillna('0')\n",
    "frame.to_csv('.\\Desktop\\INFO 7390 ADS\\Assignment3\\outnew.csv', sep=',')"
   ]
  }
 ],
 "metadata": {
  "kernelspec": {
   "display_name": "Python 2",
   "language": "python",
   "name": "python2"
  },
  "language_info": {
   "codemirror_mode": {
    "name": "ipython",
    "version": 2
   },
   "file_extension": ".py",
   "mimetype": "text/x-python",
   "name": "python",
   "nbconvert_exporter": "python",
   "pygments_lexer": "ipython2",
   "version": "2.7.11"
  }
 },
 "nbformat": 4,
 "nbformat_minor": 0
}
